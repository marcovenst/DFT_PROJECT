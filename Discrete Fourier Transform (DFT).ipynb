{
 "cells": [
  {
   "cell_type": "markdown",
   "metadata": {},
   "source": [
    "# Discrete Fourier Transform\n",
    "\n",
    "## Always Keep In Mind:\n",
    "- Why does the algorithm converge/not converge?\n",
    "- Could the algorithm be more efficient? Why/why not?\n",
    "- Are there alternative algorithms? Do they converge better?\n",
    "- Try to explain your observations either mathematically or in a rigorous computational fashion.\n",
    "- What do you observe? What is your personal interpretation of the results?\n",
    "\n",
    "## Task Description:\n",
    "This project deals with discrete Fourier analysis applied to signal and image processing.\n",
    "1. Implement the discrete Fourier transform of a set of pairs outlined below. Test on easy cases and plot the corresponding interpolating trigonometric polynomial.\n",
    "<div>\n",
    "<div align=\"center\">\n",
    "<br>\n",
    " $(x_j,y_j = f(x_j)), $   &nbsp;    $ x_j = \\frac{2 j \\pi}{n+1} , $   &nbsp;   $ 0 \\leq j \\leq n $ \n",
    "<br>\n",
    "<br>\n",
    "2. Apply it to the function of exercise 14.18. What are your conclusions?\n",
    "<br><br>\n",
    "3. Apply it to the function of exercise 14.17 and discuss Shannon’s theorem. Illustrate the aliasing phenomenon for $ f(x)  = \\sin(x) + \\sin(5x)$ with 9 nodes. How many nodes do we need for an exact representation of $ f(x)  = \\cos(x) + \\cos(5x)$\n",
    "<br><br>\n",
    "4. Improve the implementation using a simple form of Cooley-Tukey’s algorithm (Ref 1). Hint: assume that $n + 1$ is a power of 2, in particular $n$ is odd ($n = 2M - 1$), see (Ref 19), and using periodicity compute $ck$ for indices$ k = 0; ...; n$. Discuss the computer effort in comparison with the basic implementation.\n",
    "<br><br>\n",
    "5. Illustrate the effect of truncating the discrete Fourier transform (i.e. omitting high frequencies). Discuss some applications in signal compression.\n",
    "<br><br>\n",
    "6. Implement the discrete Fourier transform in two dimensions Ref 1), first in a basic way then optionally in an improved way inspired from question 4.\n",
    "<br><br>\n",
    "7. Show the effect of truncating the DFT on greyscale images. Give illustrations in the context of image denoising / compression.\n",
    "<br><br>\n",
    "8. Possible continuation: FFT for solving linear PDEs with applications in image denoising. To be discussed with us.\n",
    "<br><br>\n",
    "Ref1: Wikipedia\n",
    "<br>\n",
    "Ref19: A. Quarteroni, F. Saleri, and P. Gervasio. Scientific computing with MATLAB and Octave"
   ]
  },
  {
   "cell_type": "markdown",
   "metadata": {},
   "source": [
    "### DFT Definition\n",
    "\n",
    "In real world application, signals are often sampled using various sensors and represented as finite sets of discrete values over time.\n",
    "\n",
    "!!!!!!!ADD IN IMAGE & BETTER DEFINITION!!!!!!!!!\n",
    "\n",
    "Coefficients\n",
    "<br>\n",
    "<br>\n",
    "<div align=\"center\">\n",
    "$c_k= \\frac{1}{n+1} \\sum_{j=0}^{n} f_ne^{ikw_on}$ &nbsp for $n=0$ to $N-1$;  \n",
    "</div>\n",
    "<br>\n",
    "<br>\n"
   ]
  },
  {
   "cell_type": "markdown",
   "metadata": {},
   "source": [
    "### Question 1\n",
    "Implement the discrete Fourier transform of a set of pairs outlined below. Test on easy cases and plot the corresponding interpolating trigonometric polynomial.\n",
    "<div>\n",
    "<div align=\"center\">\n",
    "<br>\n",
    " $(x_j,y_j = f(x_j)), $   &nbsp;    $ x_j = \\frac{2 j \\pi}{n+1} , $   &nbsp;   $ 0 \\leq j \\leq n $ \n",
    "<br>\n",
    "<br>"
   ]
  },
  {
   "cell_type": "code",
   "execution_count": 15,
   "metadata": {},
   "outputs": [],
   "source": [
    "import numpy as np\n",
    "def DFT_slow(x):\n",
    "    \"\"\"Compute the discrete Fourier Transform of the 1D array x\"\"\"\n",
    "    x = np.asarray(x, dtype=float)\n",
    "    print(x)\n",
    "\n",
    "    N = x.shape[0]\n",
    "    n = np.arange(N)\n",
    "    k = n.reshape((N, 1))\n",
    "    M = np.exp(-2j * np.pi * k * n / N)\n",
    "    return np.dot(M, x)"
   ]
  },
  {
   "cell_type": "code",
   "execution_count": 16,
   "metadata": {},
   "outputs": [
    {
     "name": "stdout",
     "output_type": "stream",
     "text": [
      "[0.98209399 0.31020723 0.18955659]\n",
      "[1.48185781+0.j         0.73221208-0.10448652j 0.73221208+0.10448652j]\n"
     ]
    }
   ],
   "source": [
    "x = np.random.random(3)\n",
    "print(x)\n",
    "print(DFT_slow(x))\n",
    "#np.allclose(DFT_slow(x), np.fft.fft(x))"
   ]
  },
  {
   "cell_type": "code",
   "execution_count": 11,
   "metadata": {},
   "outputs": [
    {
     "name": "stdout",
     "output_type": "stream",
     "text": [
      "85.4 ms ± 28.7 ms per loop (mean ± std. dev. of 7 runs, 10 loops each)\n",
      "42.4 µs ± 5.88 µs per loop (mean ± std. dev. of 7 runs, 10000 loops each)\n"
     ]
    }
   ],
   "source": [
    "%timeit DFT_slow(x)\n",
    "%timeit np.fft.fft(x)"
   ]
  },
  {
   "cell_type": "markdown",
   "metadata": {},
   "source": [
    "### Question 2\n",
    "Apply it to the function of exercise 14.18. What are your conclusions?"
   ]
  },
  {
   "cell_type": "code",
   "execution_count": null,
   "metadata": {},
   "outputs": [],
   "source": []
  },
  {
   "cell_type": "markdown",
   "metadata": {},
   "source": [
    "### Question 3\n",
    "Apply it to the function of exercise 14.17 and discuss Shannon’s theorem. Illustrate the aliasing phenomenon for $ f(x)  = \\sin(x) + \\sin(5x)$ with 9 nodes. How many nodes do we need for an exact representation of $ f(x)  = \\cos(x) + \\cos(5x)$"
   ]
  },
  {
   "cell_type": "code",
   "execution_count": null,
   "metadata": {},
   "outputs": [],
   "source": []
  },
  {
   "cell_type": "markdown",
   "metadata": {},
   "source": [
    "### Question 4\n",
    "Improve the implementation using a simple form of Cooley-Tukey’s algorithm (Ref 1). Hint: assume that $n + 1$ is a power of 2, in particular $n$ is odd ($n = 2M - 1$), see (Ref 19), and using periodicity compute $ck$ for indices$ k = 0; ...; n$. Discuss the computer effort in comparison with the basic implementation."
   ]
  },
  {
   "cell_type": "code",
   "execution_count": null,
   "metadata": {},
   "outputs": [],
   "source": []
  },
  {
   "cell_type": "markdown",
   "metadata": {},
   "source": [
    "### Question 5 \n",
    "Illustrate the effect of truncating the discrete Fourier transform (i.e. omitting high frequencies). Discuss some applications in signal compression."
   ]
  },
  {
   "cell_type": "code",
   "execution_count": null,
   "metadata": {},
   "outputs": [],
   "source": []
  },
  {
   "cell_type": "markdown",
   "metadata": {},
   "source": [
    "### Question 6\n",
    "Implement the discrete Fourier transform in two dimensions Ref 1), first in a basic way then optionally in an improved way inspired from question 4."
   ]
  },
  {
   "cell_type": "code",
   "execution_count": null,
   "metadata": {},
   "outputs": [],
   "source": []
  },
  {
   "cell_type": "markdown",
   "metadata": {},
   "source": [
    "### Question 7\n",
    "Show the effect of truncating the DFT on greyscale images. Give illustrations in the context of image denoising / compression."
   ]
  },
  {
   "cell_type": "code",
   "execution_count": null,
   "metadata": {},
   "outputs": [],
   "source": []
  },
  {
   "cell_type": "markdown",
   "metadata": {},
   "source": [
    "### Question 8 \n",
    "Possible continuation: FFT for solving linear PDEs with applications in image denoising. To be discussed with us."
   ]
  },
  {
   "cell_type": "code",
   "execution_count": null,
   "metadata": {},
   "outputs": [],
   "source": []
  },
  {
   "cell_type": "code",
   "execution_count": null,
   "metadata": {},
   "outputs": [],
   "source": []
  },
  {
   "cell_type": "code",
   "execution_count": null,
   "metadata": {},
   "outputs": [],
   "source": []
  },
  {
   "cell_type": "code",
   "execution_count": 2,
   "metadata": {},
   "outputs": [],
   "source": []
  },
  {
   "cell_type": "code",
   "execution_count": null,
   "metadata": {},
   "outputs": [],
   "source": []
  }
 ],
 "metadata": {
  "kernelspec": {
   "display_name": "Python 3",
   "language": "python",
   "name": "python3"
  },
  "language_info": {
   "codemirror_mode": {
    "name": "ipython",
    "version": 3
   },
   "file_extension": ".py",
   "mimetype": "text/x-python",
   "name": "python",
   "nbconvert_exporter": "python",
   "pygments_lexer": "ipython3",
   "version": "3.8.3"
  }
 },
 "nbformat": 4,
 "nbformat_minor": 4
}
